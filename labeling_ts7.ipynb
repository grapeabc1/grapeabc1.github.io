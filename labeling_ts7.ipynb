{
  "nbformat": 4,
  "nbformat_minor": 0,
  "metadata": {
    "colab": {
      "name": "labeling_ts7.ipynb",
      "provenance": [],
      "collapsed_sections": [],
      "mount_file_id": "1__n43N7tNvV_SrtJtgpxQjvkfSB6U4r4",
      "authorship_tag": "ABX9TyOQtHMpL1UsyoRaLqB8Ibxi",
      "include_colab_link": true
    },
    "kernelspec": {
      "name": "python3",
      "display_name": "Python 3"
    },
    "language_info": {
      "name": "python"
    }
  },
  "cells": [
    {
      "cell_type": "markdown",
      "metadata": {
        "id": "view-in-github",
        "colab_type": "text"
      },
      "source": [
        "<a href=\"https://colab.research.google.com/github/grapeabc1/grapeabc1.github.io/blob/main/labeling_ts7.ipynb\" target=\"_parent\"><img src=\"https://colab.research.google.com/assets/colab-badge.svg\" alt=\"Open In Colab\"/></a>"
      ]
    },
    {
      "cell_type": "code",
      "execution_count": null,
      "metadata": {
        "id": "Rw7Nd2_5cdmZ"
      },
      "outputs": [],
      "source": [
        "import pandas as pd"
      ]
    },
    {
      "cell_type": "code",
      "source": [
        "data = pd.read_csv('/content/drive/MyDrive/TDMCC/upbit_min_data_KRW-ETH_20210322_20220324.csv')"
      ],
      "metadata": {
        "id": "t6v_l1KocnVy"
      },
      "execution_count": null,
      "outputs": []
    },
    {
      "cell_type": "code",
      "source": [
        "print(data.shape)\n",
        "print(data.info())"
      ],
      "metadata": {
        "colab": {
          "base_uri": "https://localhost:8080/"
        },
        "id": "nxGNF91zcnOZ",
        "outputId": "518da5a0-98ce-4a3d-fbcd-172621e5f74a"
      },
      "execution_count": null,
      "outputs": [
        {
          "output_type": "stream",
          "name": "stdout",
          "text": [
            "(525800, 12)\n",
            "<class 'pandas.core.frame.DataFrame'>\n",
            "RangeIndex: 525800 entries, 0 to 525799\n",
            "Data columns (total 12 columns):\n",
            " #   Column                   Non-Null Count   Dtype  \n",
            "---  ------                   --------------   -----  \n",
            " 0   candle_date_time_utc     525800 non-null  object \n",
            " 1   market                   525800 non-null  object \n",
            " 2   candle_date_time_utc.1   525800 non-null  object \n",
            " 3   candle_date_time_kst     525800 non-null  object \n",
            " 4   opening_price            525800 non-null  float64\n",
            " 5   high_price               525800 non-null  float64\n",
            " 6   low_price                525800 non-null  float64\n",
            " 7   trade_price              525800 non-null  float64\n",
            " 8   timestamp                525800 non-null  int64  \n",
            " 9   candle_acc_trade_price   525800 non-null  float64\n",
            " 10  candle_acc_trade_volume  525800 non-null  float64\n",
            " 11  unit                     525800 non-null  int64  \n",
            "dtypes: float64(6), int64(2), object(4)\n",
            "memory usage: 48.1+ MB\n",
            "None\n"
          ]
        }
      ]
    },
    {
      "cell_type": "code",
      "source": [
        "print(data)\n",
        "type(data)"
      ],
      "metadata": {
        "colab": {
          "base_uri": "https://localhost:8080/"
        },
        "id": "ujpOVnV_cnK6",
        "outputId": "5e6d4cfc-3f1a-4472-b721-b223f8eb78d1"
      },
      "execution_count": null,
      "outputs": [
        {
          "output_type": "stream",
          "name": "stdout",
          "text": [
            "       candle_date_time_utc   market candle_date_time_utc.1  \\\n",
            "0       2021-03-22 12:00:00  KRW-ETH    2021-03-22T12:00:00   \n",
            "1       2021-03-22 12:01:00  KRW-ETH    2021-03-22T12:01:00   \n",
            "2       2021-03-22 12:02:00  KRW-ETH    2021-03-22T12:02:00   \n",
            "3       2021-03-22 12:03:00  KRW-ETH    2021-03-22T12:03:00   \n",
            "4       2021-03-22 12:04:00  KRW-ETH    2021-03-22T12:04:00   \n",
            "...                     ...      ...                    ...   \n",
            "525795  2022-03-24 00:14:00  KRW-ETH    2022-03-24T00:14:00   \n",
            "525796  2022-03-24 00:15:00  KRW-ETH    2022-03-24T00:15:00   \n",
            "525797  2022-03-24 00:16:00  KRW-ETH    2022-03-24T00:16:00   \n",
            "525798  2022-03-24 00:17:00  KRW-ETH    2022-03-24T00:17:00   \n",
            "525799  2022-03-24 00:18:00  KRW-ETH    2022-03-24T00:18:00   \n",
            "\n",
            "       candle_date_time_kst  opening_price  high_price  low_price  \\\n",
            "0       2021-03-22T21:00:00      2109000.0   2112000.0  2109000.0   \n",
            "1       2021-03-22T21:01:00      2111000.0   2113000.0  2111000.0   \n",
            "2       2021-03-22T21:02:00      2111000.0   2112000.0  2108000.0   \n",
            "3       2021-03-22T21:03:00      2111000.0   2111000.0  2109000.0   \n",
            "4       2021-03-22T21:04:00      2109000.0   2111000.0  2108000.0   \n",
            "...                     ...            ...         ...        ...   \n",
            "525795  2022-03-24T09:14:00      3734000.0   3734000.0  3724000.0   \n",
            "525796  2022-03-24T09:15:00      3732000.0   3732000.0  3725000.0   \n",
            "525797  2022-03-24T09:16:00      3725000.0   3735000.0  3722000.0   \n",
            "525798  2022-03-24T09:17:00      3734000.0   3736000.0  3732000.0   \n",
            "525799  2022-03-24T09:18:00      3734000.0   3736000.0  3732000.0   \n",
            "\n",
            "        trade_price      timestamp  candle_acc_trade_price  \\\n",
            "0         2111000.0  1616414458892            9.934678e+07   \n",
            "1         2111000.0  1616414519465            2.153361e+08   \n",
            "2         2111000.0  1616414579392            1.590032e+08   \n",
            "3         2110000.0  1616414639466            1.345673e+08   \n",
            "4         2108000.0  1616414697911            1.368775e+08   \n",
            "...             ...            ...                     ...   \n",
            "525795    3731000.0  1648080899442            8.560571e+08   \n",
            "525796    3725000.0  1648080959225            4.622795e+08   \n",
            "525797    3735000.0  1648081019577            4.215070e+08   \n",
            "525798    3735000.0  1648081079276            2.690329e+08   \n",
            "525799    3732000.0  1648081116686            4.647617e+08   \n",
            "\n",
            "        candle_acc_trade_volume  unit  \n",
            "0                     47.070405     1  \n",
            "1                    102.002045     1  \n",
            "2                     75.341847     1  \n",
            "3                     63.761615     1  \n",
            "4                     64.894209     1  \n",
            "...                         ...   ...  \n",
            "525795               229.575891     1  \n",
            "525796               123.917596     1  \n",
            "525797               113.032986     1  \n",
            "525798                72.041628     1  \n",
            "525799               124.442686     1  \n",
            "\n",
            "[525800 rows x 12 columns]\n"
          ]
        },
        {
          "output_type": "execute_result",
          "data": {
            "text/plain": [
              "pandas.core.frame.DataFrame"
            ]
          },
          "metadata": {},
          "execution_count": 4
        }
      ]
    },
    {
      "cell_type": "code",
      "source": [
        "data['Date'] = pd.to_datetime(data['candle_date_time_utc']) \n",
        "#기존 컬럼 이용해서 datetime형의 Date칼럼 만들기"
      ],
      "metadata": {
        "id": "QlXx6LdgcnHU"
      },
      "execution_count": null,
      "outputs": []
    },
    {
      "cell_type": "code",
      "source": [
        "data.info()"
      ],
      "metadata": {
        "colab": {
          "base_uri": "https://localhost:8080/"
        },
        "id": "BQMKIfn0rz3L",
        "outputId": "b4b1854b-9c4b-441a-acc3-abfaada71923"
      },
      "execution_count": null,
      "outputs": [
        {
          "output_type": "stream",
          "name": "stdout",
          "text": [
            "<class 'pandas.core.frame.DataFrame'>\n",
            "RangeIndex: 525800 entries, 0 to 525799\n",
            "Data columns (total 13 columns):\n",
            " #   Column                   Non-Null Count   Dtype         \n",
            "---  ------                   --------------   -----         \n",
            " 0   candle_date_time_utc     525800 non-null  object        \n",
            " 1   market                   525800 non-null  object        \n",
            " 2   candle_date_time_utc.1   525800 non-null  object        \n",
            " 3   candle_date_time_kst     525800 non-null  object        \n",
            " 4   opening_price            525800 non-null  float64       \n",
            " 5   high_price               525800 non-null  float64       \n",
            " 6   low_price                525800 non-null  float64       \n",
            " 7   trade_price              525800 non-null  float64       \n",
            " 8   timestamp                525800 non-null  int64         \n",
            " 9   candle_acc_trade_price   525800 non-null  float64       \n",
            " 10  candle_acc_trade_volume  525800 non-null  float64       \n",
            " 11  unit                     525800 non-null  int64         \n",
            " 12  Date                     525800 non-null  datetime64[ns]\n",
            "dtypes: datetime64[ns](1), float64(6), int64(2), object(4)\n",
            "memory usage: 52.2+ MB\n"
          ]
        }
      ]
    },
    {
      "cell_type": "code",
      "source": [
        "data.set_index('Date',inplace=True) #리샘플링은 인덱스가 시간데이터일때만 가능"
      ],
      "metadata": {
        "id": "PnRzXee4cnCx"
      },
      "execution_count": null,
      "outputs": []
    },
    {
      "cell_type": "code",
      "source": [
        "data.info()"
      ],
      "metadata": {
        "colab": {
          "base_uri": "https://localhost:8080/"
        },
        "id": "bpQORiW4cmwy",
        "outputId": "a6113818-0503-4f52-d067-fd00c7f1c7ff"
      },
      "execution_count": null,
      "outputs": [
        {
          "output_type": "stream",
          "name": "stdout",
          "text": [
            "<class 'pandas.core.frame.DataFrame'>\n",
            "DatetimeIndex: 525800 entries, 2021-03-22 12:00:00 to 2022-03-24 00:18:00\n",
            "Data columns (total 12 columns):\n",
            " #   Column                   Non-Null Count   Dtype  \n",
            "---  ------                   --------------   -----  \n",
            " 0   candle_date_time_utc     525800 non-null  object \n",
            " 1   market                   525800 non-null  object \n",
            " 2   candle_date_time_utc.1   525800 non-null  object \n",
            " 3   candle_date_time_kst     525800 non-null  object \n",
            " 4   opening_price            525800 non-null  float64\n",
            " 5   high_price               525800 non-null  float64\n",
            " 6   low_price                525800 non-null  float64\n",
            " 7   trade_price              525800 non-null  float64\n",
            " 8   timestamp                525800 non-null  int64  \n",
            " 9   candle_acc_trade_price   525800 non-null  float64\n",
            " 10  candle_acc_trade_volume  525800 non-null  float64\n",
            " 11  unit                     525800 non-null  int64  \n",
            "dtypes: float64(6), int64(2), object(4)\n",
            "memory usage: 52.1+ MB\n"
          ]
        }
      ]
    },
    {
      "cell_type": "code",
      "source": [
        "#종가말고는 제거\n",
        "data = data['trade_price']"
      ],
      "metadata": {
        "id": "KUuZHos5r_fH"
      },
      "execution_count": null,
      "outputs": []
    },
    {
      "cell_type": "code",
      "source": [
        "print(data)\n",
        "#data.info() #시리즈 오브젝트는 인포가 없다고 안됨 \n",
        "#나중에 시리즈 데이터를 데이터프레임으로 변환해야할듯"
      ],
      "metadata": {
        "colab": {
          "base_uri": "https://localhost:8080/"
        },
        "id": "M2XuALegsKDF",
        "outputId": "6cf1569a-04ab-4b44-de42-5d1a918ba123"
      },
      "execution_count": null,
      "outputs": [
        {
          "output_type": "stream",
          "name": "stdout",
          "text": [
            "Date\n",
            "2021-03-22 12:00:00    2111000.0\n",
            "2021-03-22 12:01:00    2111000.0\n",
            "2021-03-22 12:02:00    2111000.0\n",
            "2021-03-22 12:03:00    2110000.0\n",
            "2021-03-22 12:04:00    2108000.0\n",
            "                         ...    \n",
            "2022-03-24 00:14:00    3731000.0\n",
            "2022-03-24 00:15:00    3725000.0\n",
            "2022-03-24 00:16:00    3735000.0\n",
            "2022-03-24 00:17:00    3735000.0\n",
            "2022-03-24 00:18:00    3732000.0\n",
            "Name: trade_price, Length: 525800, dtype: float64\n"
          ]
        }
      ]
    },
    {
      "cell_type": "code",
      "source": [
        "import numpy as np\n",
        "data2 = pd.DataFrame()\n",
        "\n",
        "data2['price_1D_mean'] = data.resample('1D').mean()"
      ],
      "metadata": {
        "id": "8y0KLUJUtPop"
      },
      "execution_count": null,
      "outputs": []
    },
    {
      "cell_type": "code",
      "source": [
        "data2.info()"
      ],
      "metadata": {
        "colab": {
          "base_uri": "https://localhost:8080/"
        },
        "id": "buRQwZ8MuP-i",
        "outputId": "c4c47a92-a8ae-41bb-ca56-b5afe046517c"
      },
      "execution_count": null,
      "outputs": [
        {
          "output_type": "stream",
          "name": "stdout",
          "text": [
            "<class 'pandas.core.frame.DataFrame'>\n",
            "DatetimeIndex: 368 entries, 2021-03-22 to 2022-03-24\n",
            "Freq: D\n",
            "Data columns (total 1 columns):\n",
            " #   Column         Non-Null Count  Dtype  \n",
            "---  ------         --------------  -----  \n",
            " 0   price_1D_mean  368 non-null    float64\n",
            "dtypes: float64(1)\n",
            "memory usage: 5.8 KB\n"
          ]
        }
      ]
    },
    {
      "cell_type": "code",
      "source": [
        "data2[\"equity\"] = (np.random.randn(data2.shape[0])/100).cumsum()\n",
        "#ok?"
      ],
      "metadata": {
        "id": "b_4JZ47fum8j"
      },
      "execution_count": null,
      "outputs": []
    },
    {
      "cell_type": "code",
      "source": [
        "data2.info()"
      ],
      "metadata": {
        "colab": {
          "base_uri": "https://localhost:8080/"
        },
        "id": "YDBbLna5vQW6",
        "outputId": "d101d7e9-a130-4f16-e05b-21c489a58a90"
      },
      "execution_count": null,
      "outputs": [
        {
          "output_type": "stream",
          "name": "stdout",
          "text": [
            "<class 'pandas.core.frame.DataFrame'>\n",
            "DatetimeIndex: 368 entries, 2021-03-22 to 2022-03-24\n",
            "Freq: D\n",
            "Data columns (total 2 columns):\n",
            " #   Column         Non-Null Count  Dtype  \n",
            "---  ------         --------------  -----  \n",
            " 0   price_1D_mean  368 non-null    float64\n",
            " 1   equity         368 non-null    float64\n",
            "dtypes: float64(2)\n",
            "memory usage: 8.6 KB\n"
          ]
        }
      ]
    },
    {
      "cell_type": "code",
      "source": [
        "#data2.rename(columns={'Before':'After'})\n",
        "data2.rename(columns={'price_1D_mean':'close'},inplace=True)"
      ],
      "metadata": {
        "id": "4ToV0_YCvUGS"
      },
      "execution_count": null,
      "outputs": []
    },
    {
      "cell_type": "code",
      "source": [
        "data2.info()"
      ],
      "metadata": {
        "colab": {
          "base_uri": "https://localhost:8080/"
        },
        "id": "Y0pklzlSvu7V",
        "outputId": "519b8099-8ecf-4b22-b6b1-8fd393494fb1"
      },
      "execution_count": null,
      "outputs": [
        {
          "output_type": "stream",
          "name": "stdout",
          "text": [
            "<class 'pandas.core.frame.DataFrame'>\n",
            "DatetimeIndex: 368 entries, 2021-03-22 to 2022-03-24\n",
            "Freq: D\n",
            "Data columns (total 2 columns):\n",
            " #   Column  Non-Null Count  Dtype  \n",
            "---  ------  --------------  -----  \n",
            " 0   close   368 non-null    float64\n",
            " 1   equity  368 non-null    float64\n",
            "dtypes: float64(2)\n",
            "memory usage: 8.6 KB\n"
          ]
        }
      ]
    },
    {
      "cell_type": "code",
      "source": [
        "data2"
      ],
      "metadata": {
        "colab": {
          "base_uri": "https://localhost:8080/",
          "height": 455
        },
        "id": "mLKSgY7ywyFD",
        "outputId": "e5854e12-de18-4a0a-c95e-e5affd189b83"
      },
      "execution_count": null,
      "outputs": [
        {
          "output_type": "execute_result",
          "data": {
            "text/plain": [
              "                   close    equity\n",
              "Date                              \n",
              "2021-03-22  2.077730e+06 -0.005418\n",
              "2021-03-23  2.016713e+06 -0.005797\n",
              "2021-03-24  2.027975e+06 -0.003475\n",
              "2021-03-25  1.952059e+06  0.003057\n",
              "2021-03-26  1.987778e+06 -0.002529\n",
              "...                  ...       ...\n",
              "2022-03-20  3.535793e+06  0.187560\n",
              "2022-03-21  3.537116e+06  0.205433\n",
              "2022-03-22  3.643530e+06  0.193479\n",
              "2022-03-23  3.626434e+06  0.202369\n",
              "2022-03-24  3.706105e+06  0.187984\n",
              "\n",
              "[368 rows x 2 columns]"
            ],
            "text/html": [
              "\n",
              "  <div id=\"df-af6658d9-1d27-4d9a-8a27-0352c5d57ac1\">\n",
              "    <div class=\"colab-df-container\">\n",
              "      <div>\n",
              "<style scoped>\n",
              "    .dataframe tbody tr th:only-of-type {\n",
              "        vertical-align: middle;\n",
              "    }\n",
              "\n",
              "    .dataframe tbody tr th {\n",
              "        vertical-align: top;\n",
              "    }\n",
              "\n",
              "    .dataframe thead th {\n",
              "        text-align: right;\n",
              "    }\n",
              "</style>\n",
              "<table border=\"1\" class=\"dataframe\">\n",
              "  <thead>\n",
              "    <tr style=\"text-align: right;\">\n",
              "      <th></th>\n",
              "      <th>close</th>\n",
              "      <th>equity</th>\n",
              "    </tr>\n",
              "    <tr>\n",
              "      <th>Date</th>\n",
              "      <th></th>\n",
              "      <th></th>\n",
              "    </tr>\n",
              "  </thead>\n",
              "  <tbody>\n",
              "    <tr>\n",
              "      <th>2021-03-22</th>\n",
              "      <td>2.077730e+06</td>\n",
              "      <td>-0.005418</td>\n",
              "    </tr>\n",
              "    <tr>\n",
              "      <th>2021-03-23</th>\n",
              "      <td>2.016713e+06</td>\n",
              "      <td>-0.005797</td>\n",
              "    </tr>\n",
              "    <tr>\n",
              "      <th>2021-03-24</th>\n",
              "      <td>2.027975e+06</td>\n",
              "      <td>-0.003475</td>\n",
              "    </tr>\n",
              "    <tr>\n",
              "      <th>2021-03-25</th>\n",
              "      <td>1.952059e+06</td>\n",
              "      <td>0.003057</td>\n",
              "    </tr>\n",
              "    <tr>\n",
              "      <th>2021-03-26</th>\n",
              "      <td>1.987778e+06</td>\n",
              "      <td>-0.002529</td>\n",
              "    </tr>\n",
              "    <tr>\n",
              "      <th>...</th>\n",
              "      <td>...</td>\n",
              "      <td>...</td>\n",
              "    </tr>\n",
              "    <tr>\n",
              "      <th>2022-03-20</th>\n",
              "      <td>3.535793e+06</td>\n",
              "      <td>0.187560</td>\n",
              "    </tr>\n",
              "    <tr>\n",
              "      <th>2022-03-21</th>\n",
              "      <td>3.537116e+06</td>\n",
              "      <td>0.205433</td>\n",
              "    </tr>\n",
              "    <tr>\n",
              "      <th>2022-03-22</th>\n",
              "      <td>3.643530e+06</td>\n",
              "      <td>0.193479</td>\n",
              "    </tr>\n",
              "    <tr>\n",
              "      <th>2022-03-23</th>\n",
              "      <td>3.626434e+06</td>\n",
              "      <td>0.202369</td>\n",
              "    </tr>\n",
              "    <tr>\n",
              "      <th>2022-03-24</th>\n",
              "      <td>3.706105e+06</td>\n",
              "      <td>0.187984</td>\n",
              "    </tr>\n",
              "  </tbody>\n",
              "</table>\n",
              "<p>368 rows × 2 columns</p>\n",
              "</div>\n",
              "      <button class=\"colab-df-convert\" onclick=\"convertToInteractive('df-af6658d9-1d27-4d9a-8a27-0352c5d57ac1')\"\n",
              "              title=\"Convert this dataframe to an interactive table.\"\n",
              "              style=\"display:none;\">\n",
              "        \n",
              "  <svg xmlns=\"http://www.w3.org/2000/svg\" height=\"24px\"viewBox=\"0 0 24 24\"\n",
              "       width=\"24px\">\n",
              "    <path d=\"M0 0h24v24H0V0z\" fill=\"none\"/>\n",
              "    <path d=\"M18.56 5.44l.94 2.06.94-2.06 2.06-.94-2.06-.94-.94-2.06-.94 2.06-2.06.94zm-11 1L8.5 8.5l.94-2.06 2.06-.94-2.06-.94L8.5 2.5l-.94 2.06-2.06.94zm10 10l.94 2.06.94-2.06 2.06-.94-2.06-.94-.94-2.06-.94 2.06-2.06.94z\"/><path d=\"M17.41 7.96l-1.37-1.37c-.4-.4-.92-.59-1.43-.59-.52 0-1.04.2-1.43.59L10.3 9.45l-7.72 7.72c-.78.78-.78 2.05 0 2.83L4 21.41c.39.39.9.59 1.41.59.51 0 1.02-.2 1.41-.59l7.78-7.78 2.81-2.81c.8-.78.8-2.07 0-2.86zM5.41 20L4 18.59l7.72-7.72 1.47 1.35L5.41 20z\"/>\n",
              "  </svg>\n",
              "      </button>\n",
              "      \n",
              "  <style>\n",
              "    .colab-df-container {\n",
              "      display:flex;\n",
              "      flex-wrap:wrap;\n",
              "      gap: 12px;\n",
              "    }\n",
              "\n",
              "    .colab-df-convert {\n",
              "      background-color: #E8F0FE;\n",
              "      border: none;\n",
              "      border-radius: 50%;\n",
              "      cursor: pointer;\n",
              "      display: none;\n",
              "      fill: #1967D2;\n",
              "      height: 32px;\n",
              "      padding: 0 0 0 0;\n",
              "      width: 32px;\n",
              "    }\n",
              "\n",
              "    .colab-df-convert:hover {\n",
              "      background-color: #E2EBFA;\n",
              "      box-shadow: 0px 1px 2px rgba(60, 64, 67, 0.3), 0px 1px 3px 1px rgba(60, 64, 67, 0.15);\n",
              "      fill: #174EA6;\n",
              "    }\n",
              "\n",
              "    [theme=dark] .colab-df-convert {\n",
              "      background-color: #3B4455;\n",
              "      fill: #D2E3FC;\n",
              "    }\n",
              "\n",
              "    [theme=dark] .colab-df-convert:hover {\n",
              "      background-color: #434B5C;\n",
              "      box-shadow: 0px 1px 3px 1px rgba(0, 0, 0, 0.15);\n",
              "      filter: drop-shadow(0px 1px 2px rgba(0, 0, 0, 0.3));\n",
              "      fill: #FFFFFF;\n",
              "    }\n",
              "  </style>\n",
              "\n",
              "      <script>\n",
              "        const buttonEl =\n",
              "          document.querySelector('#df-af6658d9-1d27-4d9a-8a27-0352c5d57ac1 button.colab-df-convert');\n",
              "        buttonEl.style.display =\n",
              "          google.colab.kernel.accessAllowed ? 'block' : 'none';\n",
              "\n",
              "        async function convertToInteractive(key) {\n",
              "          const element = document.querySelector('#df-af6658d9-1d27-4d9a-8a27-0352c5d57ac1');\n",
              "          const dataTable =\n",
              "            await google.colab.kernel.invokeFunction('convertToInteractive',\n",
              "                                                     [key], {});\n",
              "          if (!dataTable) return;\n",
              "\n",
              "          const docLinkHtml = 'Like what you see? Visit the ' +\n",
              "            '<a target=\"_blank\" href=https://colab.research.google.com/notebooks/data_table.ipynb>data table notebook</a>'\n",
              "            + ' to learn more about interactive tables.';\n",
              "          element.innerHTML = '';\n",
              "          dataTable['output_type'] = 'display_data';\n",
              "          await google.colab.output.renderOutput(dataTable, element);\n",
              "          const docLink = document.createElement('div');\n",
              "          docLink.innerHTML = docLinkHtml;\n",
              "          element.appendChild(docLink);\n",
              "        }\n",
              "      </script>\n",
              "    </div>\n",
              "  </div>\n",
              "  "
            ]
          },
          "metadata": {},
          "execution_count": 19
        }
      ]
    },
    {
      "cell_type": "code",
      "source": [
        "data2 = data2[['equity', 'close']]\n",
        "data2"
      ],
      "metadata": {
        "colab": {
          "base_uri": "https://localhost:8080/",
          "height": 455
        },
        "id": "-kswoXxIwiiQ",
        "outputId": "a7ab4e7a-8b13-422a-c278-726de87f71c0"
      },
      "execution_count": null,
      "outputs": [
        {
          "output_type": "execute_result",
          "data": {
            "text/plain": [
              "              equity         close\n",
              "Date                              \n",
              "2021-03-22 -0.005418  2.077730e+06\n",
              "2021-03-23 -0.005797  2.016713e+06\n",
              "2021-03-24 -0.003475  2.027975e+06\n",
              "2021-03-25  0.003057  1.952059e+06\n",
              "2021-03-26 -0.002529  1.987778e+06\n",
              "...              ...           ...\n",
              "2022-03-20  0.187560  3.535793e+06\n",
              "2022-03-21  0.205433  3.537116e+06\n",
              "2022-03-22  0.193479  3.643530e+06\n",
              "2022-03-23  0.202369  3.626434e+06\n",
              "2022-03-24  0.187984  3.706105e+06\n",
              "\n",
              "[368 rows x 2 columns]"
            ],
            "text/html": [
              "\n",
              "  <div id=\"df-715e0d67-c9ac-45a2-829f-6d17619025a5\">\n",
              "    <div class=\"colab-df-container\">\n",
              "      <div>\n",
              "<style scoped>\n",
              "    .dataframe tbody tr th:only-of-type {\n",
              "        vertical-align: middle;\n",
              "    }\n",
              "\n",
              "    .dataframe tbody tr th {\n",
              "        vertical-align: top;\n",
              "    }\n",
              "\n",
              "    .dataframe thead th {\n",
              "        text-align: right;\n",
              "    }\n",
              "</style>\n",
              "<table border=\"1\" class=\"dataframe\">\n",
              "  <thead>\n",
              "    <tr style=\"text-align: right;\">\n",
              "      <th></th>\n",
              "      <th>equity</th>\n",
              "      <th>close</th>\n",
              "    </tr>\n",
              "    <tr>\n",
              "      <th>Date</th>\n",
              "      <th></th>\n",
              "      <th></th>\n",
              "    </tr>\n",
              "  </thead>\n",
              "  <tbody>\n",
              "    <tr>\n",
              "      <th>2021-03-22</th>\n",
              "      <td>-0.005418</td>\n",
              "      <td>2.077730e+06</td>\n",
              "    </tr>\n",
              "    <tr>\n",
              "      <th>2021-03-23</th>\n",
              "      <td>-0.005797</td>\n",
              "      <td>2.016713e+06</td>\n",
              "    </tr>\n",
              "    <tr>\n",
              "      <th>2021-03-24</th>\n",
              "      <td>-0.003475</td>\n",
              "      <td>2.027975e+06</td>\n",
              "    </tr>\n",
              "    <tr>\n",
              "      <th>2021-03-25</th>\n",
              "      <td>0.003057</td>\n",
              "      <td>1.952059e+06</td>\n",
              "    </tr>\n",
              "    <tr>\n",
              "      <th>2021-03-26</th>\n",
              "      <td>-0.002529</td>\n",
              "      <td>1.987778e+06</td>\n",
              "    </tr>\n",
              "    <tr>\n",
              "      <th>...</th>\n",
              "      <td>...</td>\n",
              "      <td>...</td>\n",
              "    </tr>\n",
              "    <tr>\n",
              "      <th>2022-03-20</th>\n",
              "      <td>0.187560</td>\n",
              "      <td>3.535793e+06</td>\n",
              "    </tr>\n",
              "    <tr>\n",
              "      <th>2022-03-21</th>\n",
              "      <td>0.205433</td>\n",
              "      <td>3.537116e+06</td>\n",
              "    </tr>\n",
              "    <tr>\n",
              "      <th>2022-03-22</th>\n",
              "      <td>0.193479</td>\n",
              "      <td>3.643530e+06</td>\n",
              "    </tr>\n",
              "    <tr>\n",
              "      <th>2022-03-23</th>\n",
              "      <td>0.202369</td>\n",
              "      <td>3.626434e+06</td>\n",
              "    </tr>\n",
              "    <tr>\n",
              "      <th>2022-03-24</th>\n",
              "      <td>0.187984</td>\n",
              "      <td>3.706105e+06</td>\n",
              "    </tr>\n",
              "  </tbody>\n",
              "</table>\n",
              "<p>368 rows × 2 columns</p>\n",
              "</div>\n",
              "      <button class=\"colab-df-convert\" onclick=\"convertToInteractive('df-715e0d67-c9ac-45a2-829f-6d17619025a5')\"\n",
              "              title=\"Convert this dataframe to an interactive table.\"\n",
              "              style=\"display:none;\">\n",
              "        \n",
              "  <svg xmlns=\"http://www.w3.org/2000/svg\" height=\"24px\"viewBox=\"0 0 24 24\"\n",
              "       width=\"24px\">\n",
              "    <path d=\"M0 0h24v24H0V0z\" fill=\"none\"/>\n",
              "    <path d=\"M18.56 5.44l.94 2.06.94-2.06 2.06-.94-2.06-.94-.94-2.06-.94 2.06-2.06.94zm-11 1L8.5 8.5l.94-2.06 2.06-.94-2.06-.94L8.5 2.5l-.94 2.06-2.06.94zm10 10l.94 2.06.94-2.06 2.06-.94-2.06-.94-.94-2.06-.94 2.06-2.06.94z\"/><path d=\"M17.41 7.96l-1.37-1.37c-.4-.4-.92-.59-1.43-.59-.52 0-1.04.2-1.43.59L10.3 9.45l-7.72 7.72c-.78.78-.78 2.05 0 2.83L4 21.41c.39.39.9.59 1.41.59.51 0 1.02-.2 1.41-.59l7.78-7.78 2.81-2.81c.8-.78.8-2.07 0-2.86zM5.41 20L4 18.59l7.72-7.72 1.47 1.35L5.41 20z\"/>\n",
              "  </svg>\n",
              "      </button>\n",
              "      \n",
              "  <style>\n",
              "    .colab-df-container {\n",
              "      display:flex;\n",
              "      flex-wrap:wrap;\n",
              "      gap: 12px;\n",
              "    }\n",
              "\n",
              "    .colab-df-convert {\n",
              "      background-color: #E8F0FE;\n",
              "      border: none;\n",
              "      border-radius: 50%;\n",
              "      cursor: pointer;\n",
              "      display: none;\n",
              "      fill: #1967D2;\n",
              "      height: 32px;\n",
              "      padding: 0 0 0 0;\n",
              "      width: 32px;\n",
              "    }\n",
              "\n",
              "    .colab-df-convert:hover {\n",
              "      background-color: #E2EBFA;\n",
              "      box-shadow: 0px 1px 2px rgba(60, 64, 67, 0.3), 0px 1px 3px 1px rgba(60, 64, 67, 0.15);\n",
              "      fill: #174EA6;\n",
              "    }\n",
              "\n",
              "    [theme=dark] .colab-df-convert {\n",
              "      background-color: #3B4455;\n",
              "      fill: #D2E3FC;\n",
              "    }\n",
              "\n",
              "    [theme=dark] .colab-df-convert:hover {\n",
              "      background-color: #434B5C;\n",
              "      box-shadow: 0px 1px 3px 1px rgba(0, 0, 0, 0.15);\n",
              "      filter: drop-shadow(0px 1px 2px rgba(0, 0, 0, 0.3));\n",
              "      fill: #FFFFFF;\n",
              "    }\n",
              "  </style>\n",
              "\n",
              "      <script>\n",
              "        const buttonEl =\n",
              "          document.querySelector('#df-715e0d67-c9ac-45a2-829f-6d17619025a5 button.colab-df-convert');\n",
              "        buttonEl.style.display =\n",
              "          google.colab.kernel.accessAllowed ? 'block' : 'none';\n",
              "\n",
              "        async function convertToInteractive(key) {\n",
              "          const element = document.querySelector('#df-715e0d67-c9ac-45a2-829f-6d17619025a5');\n",
              "          const dataTable =\n",
              "            await google.colab.kernel.invokeFunction('convertToInteractive',\n",
              "                                                     [key], {});\n",
              "          if (!dataTable) return;\n",
              "\n",
              "          const docLinkHtml = 'Like what you see? Visit the ' +\n",
              "            '<a target=\"_blank\" href=https://colab.research.google.com/notebooks/data_table.ipynb>data table notebook</a>'\n",
              "            + ' to learn more about interactive tables.';\n",
              "          element.innerHTML = '';\n",
              "          dataTable['output_type'] = 'display_data';\n",
              "          await google.colab.output.renderOutput(dataTable, element);\n",
              "          const docLink = document.createElement('div');\n",
              "          docLink.innerHTML = docLinkHtml;\n",
              "          element.appendChild(docLink);\n",
              "        }\n",
              "      </script>\n",
              "    </div>\n",
              "  </div>\n",
              "  "
            ]
          },
          "metadata": {},
          "execution_count": 20
        }
      ]
    },
    {
      "cell_type": "code",
      "source": [
        "data2"
      ],
      "metadata": {
        "id": "I8a9D1J7_RGO"
      },
      "execution_count": null,
      "outputs": []
    },
    {
      "cell_type": "code",
      "source": [
        "!pip install decisiveml"
      ],
      "metadata": {
        "colab": {
          "base_uri": "https://localhost:8080/"
        },
        "id": "-7ZuNjXJ47xI",
        "outputId": "b69d1723-813a-48c9-8db5-26549262615f"
      },
      "execution_count": null,
      "outputs": [
        {
          "output_type": "stream",
          "name": "stdout",
          "text": [
            "Collecting decisiveml\n",
            "  Downloading decisiveml-0.0.3-py3-none-any.whl (9.7 kB)\n",
            "Requirement already satisfied: matplotlib<4.0.0,>=3.2.1 in /usr/local/lib/python3.7/dist-packages (from decisiveml) (3.2.2)\n",
            "Collecting statsmodels<0.12.0,>=0.11.1\n",
            "  Downloading statsmodels-0.11.1-cp37-cp37m-manylinux1_x86_64.whl (8.7 MB)\n",
            "\u001b[K     |████████████████████████████████| 8.7 MB 24.8 MB/s \n",
            "\u001b[?25hCollecting pandas_market_calendars<2.0.0,>=1.3.5\n",
            "  Downloading pandas_market_calendars-1.7-py3-none-any.whl (61 kB)\n",
            "\u001b[K     |████████████████████████████████| 61 kB 7.4 MB/s \n",
            "\u001b[?25hRequirement already satisfied: jupyter<2.0.0,>=1.0.0 in /usr/local/lib/python3.7/dist-packages (from decisiveml) (1.0.0)\n",
            "Requirement already satisfied: jupyter-console in /usr/local/lib/python3.7/dist-packages (from jupyter<2.0.0,>=1.0.0->decisiveml) (5.2.0)\n",
            "Requirement already satisfied: qtconsole in /usr/local/lib/python3.7/dist-packages (from jupyter<2.0.0,>=1.0.0->decisiveml) (5.3.0)\n",
            "Requirement already satisfied: ipywidgets in /usr/local/lib/python3.7/dist-packages (from jupyter<2.0.0,>=1.0.0->decisiveml) (7.7.0)\n",
            "Requirement already satisfied: notebook in /usr/local/lib/python3.7/dist-packages (from jupyter<2.0.0,>=1.0.0->decisiveml) (5.3.1)\n",
            "Requirement already satisfied: ipykernel in /usr/local/lib/python3.7/dist-packages (from jupyter<2.0.0,>=1.0.0->decisiveml) (4.10.1)\n",
            "Requirement already satisfied: nbconvert in /usr/local/lib/python3.7/dist-packages (from jupyter<2.0.0,>=1.0.0->decisiveml) (5.6.1)\n",
            "Requirement already satisfied: pyparsing!=2.0.4,!=2.1.2,!=2.1.6,>=2.0.1 in /usr/local/lib/python3.7/dist-packages (from matplotlib<4.0.0,>=3.2.1->decisiveml) (3.0.8)\n",
            "Requirement already satisfied: kiwisolver>=1.0.1 in /usr/local/lib/python3.7/dist-packages (from matplotlib<4.0.0,>=3.2.1->decisiveml) (1.4.2)\n",
            "Requirement already satisfied: numpy>=1.11 in /usr/local/lib/python3.7/dist-packages (from matplotlib<4.0.0,>=3.2.1->decisiveml) (1.21.6)\n",
            "Requirement already satisfied: cycler>=0.10 in /usr/local/lib/python3.7/dist-packages (from matplotlib<4.0.0,>=3.2.1->decisiveml) (0.11.0)\n",
            "Requirement already satisfied: python-dateutil>=2.1 in /usr/local/lib/python3.7/dist-packages (from matplotlib<4.0.0,>=3.2.1->decisiveml) (2.8.2)\n",
            "Requirement already satisfied: typing-extensions in /usr/local/lib/python3.7/dist-packages (from kiwisolver>=1.0.1->matplotlib<4.0.0,>=3.2.1->decisiveml) (4.2.0)\n",
            "Requirement already satisfied: pytz in /usr/local/lib/python3.7/dist-packages (from pandas_market_calendars<2.0.0,>=1.3.5->decisiveml) (2022.1)\n",
            "Collecting trading-calendars\n",
            "  Downloading trading_calendars-2.1.1.tar.gz (108 kB)\n",
            "\u001b[K     |████████████████████████████████| 108 kB 57.6 MB/s \n",
            "\u001b[?25hRequirement already satisfied: pandas>=0.18 in /usr/local/lib/python3.7/dist-packages (from pandas_market_calendars<2.0.0,>=1.3.5->decisiveml) (1.3.5)\n",
            "Requirement already satisfied: six>=1.5 in /usr/local/lib/python3.7/dist-packages (from python-dateutil>=2.1->matplotlib<4.0.0,>=3.2.1->decisiveml) (1.15.0)\n",
            "Requirement already satisfied: scipy>=1.0 in /usr/local/lib/python3.7/dist-packages (from statsmodels<0.12.0,>=0.11.1->decisiveml) (1.4.1)\n",
            "Requirement already satisfied: patsy>=0.5 in /usr/local/lib/python3.7/dist-packages (from statsmodels<0.12.0,>=0.11.1->decisiveml) (0.5.2)\n",
            "Requirement already satisfied: jupyter-client in /usr/local/lib/python3.7/dist-packages (from ipykernel->jupyter<2.0.0,>=1.0.0->decisiveml) (5.3.5)\n",
            "Requirement already satisfied: tornado>=4.0 in /usr/local/lib/python3.7/dist-packages (from ipykernel->jupyter<2.0.0,>=1.0.0->decisiveml) (5.1.1)\n",
            "Requirement already satisfied: ipython>=4.0.0 in /usr/local/lib/python3.7/dist-packages (from ipykernel->jupyter<2.0.0,>=1.0.0->decisiveml) (5.5.0)\n",
            "Requirement already satisfied: traitlets>=4.1.0 in /usr/local/lib/python3.7/dist-packages (from ipykernel->jupyter<2.0.0,>=1.0.0->decisiveml) (5.1.1)\n",
            "Requirement already satisfied: prompt-toolkit<2.0.0,>=1.0.4 in /usr/local/lib/python3.7/dist-packages (from ipython>=4.0.0->ipykernel->jupyter<2.0.0,>=1.0.0->decisiveml) (1.0.18)\n",
            "Requirement already satisfied: pexpect in /usr/local/lib/python3.7/dist-packages (from ipython>=4.0.0->ipykernel->jupyter<2.0.0,>=1.0.0->decisiveml) (4.8.0)\n",
            "Requirement already satisfied: setuptools>=18.5 in /usr/local/lib/python3.7/dist-packages (from ipython>=4.0.0->ipykernel->jupyter<2.0.0,>=1.0.0->decisiveml) (57.4.0)\n",
            "Requirement already satisfied: pickleshare in /usr/local/lib/python3.7/dist-packages (from ipython>=4.0.0->ipykernel->jupyter<2.0.0,>=1.0.0->decisiveml) (0.7.5)\n",
            "Requirement already satisfied: pygments in /usr/local/lib/python3.7/dist-packages (from ipython>=4.0.0->ipykernel->jupyter<2.0.0,>=1.0.0->decisiveml) (2.6.1)\n",
            "Requirement already satisfied: simplegeneric>0.8 in /usr/local/lib/python3.7/dist-packages (from ipython>=4.0.0->ipykernel->jupyter<2.0.0,>=1.0.0->decisiveml) (0.8.1)\n",
            "Requirement already satisfied: decorator in /usr/local/lib/python3.7/dist-packages (from ipython>=4.0.0->ipykernel->jupyter<2.0.0,>=1.0.0->decisiveml) (4.4.2)\n",
            "Requirement already satisfied: wcwidth in /usr/local/lib/python3.7/dist-packages (from prompt-toolkit<2.0.0,>=1.0.4->ipython>=4.0.0->ipykernel->jupyter<2.0.0,>=1.0.0->decisiveml) (0.2.5)\n",
            "Requirement already satisfied: nbformat>=4.2.0 in /usr/local/lib/python3.7/dist-packages (from ipywidgets->jupyter<2.0.0,>=1.0.0->decisiveml) (5.3.0)\n",
            "Requirement already satisfied: ipython-genutils~=0.2.0 in /usr/local/lib/python3.7/dist-packages (from ipywidgets->jupyter<2.0.0,>=1.0.0->decisiveml) (0.2.0)\n",
            "Requirement already satisfied: jupyterlab-widgets>=1.0.0 in /usr/local/lib/python3.7/dist-packages (from ipywidgets->jupyter<2.0.0,>=1.0.0->decisiveml) (1.1.0)\n",
            "Requirement already satisfied: widgetsnbextension~=3.6.0 in /usr/local/lib/python3.7/dist-packages (from ipywidgets->jupyter<2.0.0,>=1.0.0->decisiveml) (3.6.0)\n",
            "Requirement already satisfied: jsonschema>=2.6 in /usr/local/lib/python3.7/dist-packages (from nbformat>=4.2.0->ipywidgets->jupyter<2.0.0,>=1.0.0->decisiveml) (4.3.3)\n",
            "Requirement already satisfied: fastjsonschema in /usr/local/lib/python3.7/dist-packages (from nbformat>=4.2.0->ipywidgets->jupyter<2.0.0,>=1.0.0->decisiveml) (2.15.3)\n",
            "Requirement already satisfied: jupyter-core in /usr/local/lib/python3.7/dist-packages (from nbformat>=4.2.0->ipywidgets->jupyter<2.0.0,>=1.0.0->decisiveml) (4.10.0)\n",
            "Requirement already satisfied: importlib-metadata in /usr/local/lib/python3.7/dist-packages (from jsonschema>=2.6->nbformat>=4.2.0->ipywidgets->jupyter<2.0.0,>=1.0.0->decisiveml) (4.11.3)\n",
            "Requirement already satisfied: attrs>=17.4.0 in /usr/local/lib/python3.7/dist-packages (from jsonschema>=2.6->nbformat>=4.2.0->ipywidgets->jupyter<2.0.0,>=1.0.0->decisiveml) (21.4.0)\n",
            "Requirement already satisfied: pyrsistent!=0.17.0,!=0.17.1,!=0.17.2,>=0.14.0 in /usr/local/lib/python3.7/dist-packages (from jsonschema>=2.6->nbformat>=4.2.0->ipywidgets->jupyter<2.0.0,>=1.0.0->decisiveml) (0.18.1)\n",
            "Requirement already satisfied: importlib-resources>=1.4.0 in /usr/local/lib/python3.7/dist-packages (from jsonschema>=2.6->nbformat>=4.2.0->ipywidgets->jupyter<2.0.0,>=1.0.0->decisiveml) (5.7.1)\n",
            "Requirement already satisfied: zipp>=3.1.0 in /usr/local/lib/python3.7/dist-packages (from importlib-resources>=1.4.0->jsonschema>=2.6->nbformat>=4.2.0->ipywidgets->jupyter<2.0.0,>=1.0.0->decisiveml) (3.8.0)\n",
            "Requirement already satisfied: Send2Trash in /usr/local/lib/python3.7/dist-packages (from notebook->jupyter<2.0.0,>=1.0.0->decisiveml) (1.8.0)\n",
            "Requirement already satisfied: terminado>=0.8.1 in /usr/local/lib/python3.7/dist-packages (from notebook->jupyter<2.0.0,>=1.0.0->decisiveml) (0.13.3)\n",
            "Requirement already satisfied: jinja2 in /usr/local/lib/python3.7/dist-packages (from notebook->jupyter<2.0.0,>=1.0.0->decisiveml) (2.11.3)\n",
            "Requirement already satisfied: pyzmq>=13 in /usr/local/lib/python3.7/dist-packages (from jupyter-client->ipykernel->jupyter<2.0.0,>=1.0.0->decisiveml) (22.3.0)\n",
            "Requirement already satisfied: ptyprocess in /usr/local/lib/python3.7/dist-packages (from terminado>=0.8.1->notebook->jupyter<2.0.0,>=1.0.0->decisiveml) (0.7.0)\n",
            "Requirement already satisfied: MarkupSafe>=0.23 in /usr/local/lib/python3.7/dist-packages (from jinja2->notebook->jupyter<2.0.0,>=1.0.0->decisiveml) (2.0.1)\n",
            "Requirement already satisfied: pandocfilters>=1.4.1 in /usr/local/lib/python3.7/dist-packages (from nbconvert->jupyter<2.0.0,>=1.0.0->decisiveml) (1.5.0)\n",
            "Requirement already satisfied: bleach in /usr/local/lib/python3.7/dist-packages (from nbconvert->jupyter<2.0.0,>=1.0.0->decisiveml) (5.0.0)\n",
            "Requirement already satisfied: mistune<2,>=0.8.1 in /usr/local/lib/python3.7/dist-packages (from nbconvert->jupyter<2.0.0,>=1.0.0->decisiveml) (0.8.4)\n",
            "Requirement already satisfied: defusedxml in /usr/local/lib/python3.7/dist-packages (from nbconvert->jupyter<2.0.0,>=1.0.0->decisiveml) (0.7.1)\n",
            "Requirement already satisfied: entrypoints>=0.2.2 in /usr/local/lib/python3.7/dist-packages (from nbconvert->jupyter<2.0.0,>=1.0.0->decisiveml) (0.4)\n",
            "Requirement already satisfied: testpath in /usr/local/lib/python3.7/dist-packages (from nbconvert->jupyter<2.0.0,>=1.0.0->decisiveml) (0.6.0)\n",
            "Requirement already satisfied: webencodings in /usr/local/lib/python3.7/dist-packages (from bleach->nbconvert->jupyter<2.0.0,>=1.0.0->decisiveml) (0.5.1)\n",
            "Requirement already satisfied: qtpy>=2.0.1 in /usr/local/lib/python3.7/dist-packages (from qtconsole->jupyter<2.0.0,>=1.0.0->decisiveml) (2.0.1)\n",
            "Requirement already satisfied: packaging in /usr/local/lib/python3.7/dist-packages (from qtpy>=2.0.1->qtconsole->jupyter<2.0.0,>=1.0.0->decisiveml) (21.3)\n",
            "Requirement already satisfied: toolz in /usr/local/lib/python3.7/dist-packages (from trading-calendars->pandas_market_calendars<2.0.0,>=1.3.5->decisiveml) (0.11.2)\n",
            "Building wheels for collected packages: trading-calendars\n",
            "  Building wheel for trading-calendars (setup.py) ... \u001b[?25l\u001b[?25hdone\n",
            "  Created wheel for trading-calendars: filename=trading_calendars-2.1.1-py3-none-any.whl size=140937 sha256=f7c55164215b906d6021e9181a13aa22b9d064609e3b1d583e9f79e284be23b0\n",
            "  Stored in directory: /root/.cache/pip/wheels/62/9c/d1/46a21e1b99e064cba79b85e9f95e6a208ac5ba4c29ae5962ec\n",
            "Successfully built trading-calendars\n",
            "Installing collected packages: trading-calendars, statsmodels, pandas-market-calendars, decisiveml\n",
            "  Attempting uninstall: statsmodels\n",
            "    Found existing installation: statsmodels 0.10.2\n",
            "    Uninstalling statsmodels-0.10.2:\n",
            "      Successfully uninstalled statsmodels-0.10.2\n",
            "Successfully installed decisiveml-0.0.3 pandas-market-calendars-1.7 statsmodels-0.11.1 trading-calendars-2.1.1\n"
          ]
        }
      ]
    },
    {
      "cell_type": "code",
      "source": [
        "%load_ext autoreload\n",
        "%autoreload 2\n",
        "import warnings\n",
        "warnings.filterwarnings(\"ignore\", category=DeprecationWarning)\n",
        "warnings.filterwarnings(\"ignore\", category=FutureWarning)\n",
        "\n",
        "# data\n",
        "import numpy as np\n",
        "import pandas as pd\n",
        "import matplotlib.pyplot as plt\n",
        "\n",
        "# trendscanning\n",
        "import sys\n",
        "sys.path.append(\"..\")\n",
        "import decisiveml as dml"
      ],
      "metadata": {
        "colab": {
          "base_uri": "https://localhost:8080/"
        },
        "id": "maSrtF2I47SC",
        "outputId": "d3cd03ba-1175-43e4-d6be-a6ad648bcea6"
      },
      "execution_count": null,
      "outputs": [
        {
          "output_type": "stream",
          "name": "stdout",
          "text": [
            "The autoreload extension is already loaded. To reload it, use:\n",
            "  %reload_ext autoreload\n"
          ]
        }
      ]
    },
    {
      "cell_type": "code",
      "source": [
        "# signal\n",
        "data2[\"mavg\"] = data2.close.rolling(10).mean()\n",
        "m_crossabove = (data2.close.shift(1) < data2.mavg) & (data2.close > data2.mavg)\n",
        "m_crossbelow = (data2.close.shift(1) > data2.mavg) & (data2.close < data2.mavg)\n",
        "data2[\"entry\"] = data2[m_crossabove | m_crossbelow].close\n",
        "\n",
        "# plot\n",
        "data2.close.plot()\n",
        "data2.mavg.plot(linestyle=\"--\", color=\"gray\")\n",
        "data2.entry.plot(marker=\"o\", color=\"gray\")\n",
        "plt.title(\"Crossovers\");"
      ],
      "metadata": {
        "colab": {
          "base_uri": "https://localhost:8080/",
          "height": 547
        },
        "id": "k9rDAnTa47Ds",
        "outputId": "00edff45-af06-4ae3-c024-ec0e860b8a5c"
      },
      "execution_count": null,
      "outputs": [
        {
          "output_type": "stream",
          "name": "stderr",
          "text": [
            "/usr/local/lib/python3.7/dist-packages/ipykernel_launcher.py:2: SettingWithCopyWarning: \n",
            "A value is trying to be set on a copy of a slice from a DataFrame.\n",
            "Try using .loc[row_indexer,col_indexer] = value instead\n",
            "\n",
            "See the caveats in the documentation: https://pandas.pydata.org/pandas-docs/stable/user_guide/indexing.html#returning-a-view-versus-a-copy\n",
            "  \n",
            "/usr/local/lib/python3.7/dist-packages/ipykernel_launcher.py:5: SettingWithCopyWarning: \n",
            "A value is trying to be set on a copy of a slice from a DataFrame.\n",
            "Try using .loc[row_indexer,col_indexer] = value instead\n",
            "\n",
            "See the caveats in the documentation: https://pandas.pydata.org/pandas-docs/stable/user_guide/indexing.html#returning-a-view-versus-a-copy\n",
            "  \"\"\"\n"
          ]
        },
        {
          "output_type": "display_data",
          "data": {
            "text/plain": [
              "<Figure size 432x288 with 1 Axes>"
            ],
            "image/png": "[encoded data removed]"
          },
          "metadata": {
            "needs_background": "light"
          }
        }
      ]
    },
    {
      "cell_type": "code",
      "source": [
        "trend = dml.getBinsFromTrend(\n",
        "    molecule=data2[\"entry\"].dropna().index, \n",
        "    close=data2.close, \n",
        "    span=[22, 44, 11],\n",
        ")\n",
        "trend"
      ],
      "metadata": {
        "colab": {
          "base_uri": "https://localhost:8080/",
          "height": 1000
        },
        "id": "9fvmA40U46wt",
        "outputId": "534fd8ec-4cc7-486f-aa5f-275d11865f9d"
      },
      "execution_count": null,
      "outputs": [
        {
          "output_type": "execute_result",
          "data": {
            "text/plain": [
              "                   t1       tVal  bin\n",
              "Date                                 \n",
              "2021-04-18 2021-05-20  10.393227  1.0\n",
              "2021-04-22 2021-05-24  18.475995  1.0\n",
              "2021-04-23 2021-05-25  22.292613  1.0\n",
              "2021-04-26 2021-05-28   8.128763  1.0\n",
              "2021-05-16 2021-06-17  -4.939134 -1.0\n",
              "2021-05-26 2021-06-27 -10.883775 -1.0\n",
              "2021-05-28 2021-06-29  -9.636321 -1.0\n",
              "2021-06-01 2021-07-03  -9.451821 -1.0\n",
              "2021-06-08 2021-07-10  -7.563467 -1.0\n",
              "2021-06-15 2021-07-17  -1.828528 -1.0\n",
              "2021-06-16 2021-07-18  -1.444007 -1.0\n",
              "2021-06-17 2021-07-19  -1.216281 -1.0\n",
              "2021-06-28 2021-07-30  -3.542861 -1.0\n",
              "2021-07-09 2021-08-10   9.464852  1.0\n",
              "2021-07-22 2021-08-23  22.449839  1.0\n",
              "2021-08-18 2021-09-19   6.606052  1.0\n",
              "2021-08-20 2021-09-21   4.775019  1.0\n",
              "2021-08-25 2021-09-26   1.941763  1.0\n",
              "2021-08-28 2021-09-29  -3.910932 -1.0\n",
              "2021-08-29 2021-09-30  -4.904107 -1.0\n",
              "2021-08-30 2021-10-01  -5.926294 -1.0\n",
              "2021-09-08 2021-10-10  -6.171991 -1.0\n",
              "2021-09-20 2021-10-22  15.500371  1.0\n",
              "2021-09-28 2021-10-30  20.200668  1.0\n",
              "2021-09-30 2021-11-01   19.62631  1.0\n",
              "2021-10-01 2021-11-02  20.968441  1.0\n",
              "2021-10-14 2021-11-15  19.327561  1.0\n",
              "2021-10-29 2021-11-30   1.092214  1.0\n",
              "2021-11-14 2021-12-16  -3.123421 -1.0\n",
              "2021-11-15 2021-12-17  -3.197163 -1.0\n",
              "2021-11-16 2021-12-18  -3.153417 -1.0\n",
              "2021-11-22 2021-12-24  -5.910062 -1.0\n",
              "2021-11-24 2021-12-26  -6.746107 -1.0\n",
              "2021-11-27 2021-12-29  -7.388914 -1.0\n",
              "2021-11-29 2021-12-31  -9.220269 -1.0\n",
              "2021-12-04 2022-01-05  -8.741324 -1.0\n",
              "2021-12-17 2022-01-18 -12.651395 -1.0\n",
              "2021-12-20 2022-01-21 -14.489371 -1.0\n",
              "2021-12-21 2022-01-22 -14.471317 -1.0\n",
              "2021-12-24 2022-01-25 -14.823575 -1.0\n",
              "2021-12-28 2022-01-29 -14.513419 -1.0\n",
              "2022-01-06 2022-02-07  -7.104983 -1.0\n",
              "2022-01-14 2022-02-15  -3.702562 -1.0\n",
              "2022-01-18 2022-02-19    2.60701  1.0\n",
              "2022-01-29 2022-03-02   2.749689  1.0\n",
              "2022-02-12 2022-03-16  -4.029848 -1.0\n",
              "2022-02-15 2022-03-19  -2.206056 -1.0\n",
              "2022-02-17 2022-03-21  -0.962383 -1.0\n",
              "2022-02-18 2022-03-22   1.677073  1.0"
            ],
            "text/html": [
              "\n",
              "  <div id=\"df-62bced0d-c29f-4340-ad39-7a955aabf58c\">\n",
              "    <div class=\"colab-df-container\">\n",
              "      <div>\n",
              "<style scoped>\n",
              "    .dataframe tbody tr th:only-of-type {\n",
              "        vertical-align: middle;\n",
              "    }\n",
              "\n",
              "    .dataframe tbody tr th {\n",
              "        vertical-align: top;\n",
              "    }\n",
              "\n",
              "    .dataframe thead th {\n",
              "        text-align: right;\n",
              "    }\n",
              "</style>\n",
              "<table border=\"1\" class=\"dataframe\">\n",
              "  <thead>\n",
              "    <tr style=\"text-align: right;\">\n",
              "      <th></th>\n",
              "      <th>t1</th>\n",
              "      <th>tVal</th>\n",
              "      <th>bin</th>\n",
              "    </tr>\n",
              "    <tr>\n",
              "      <th>Date</th>\n",
              "      <th></th>\n",
              "      <th></th>\n",
              "      <th></th>\n",
              "    </tr>\n",
              "  </thead>\n",
              "  <tbody>\n",
              "    <tr>\n",
              "      <th>2021-04-18</th>\n",
              "      <td>2021-05-20</td>\n",
              "      <td>10.393227</td>\n",
              "      <td>1.0</td>\n",
              "    </tr>\n",
              "    <tr>\n",
              "      <th>2021-04-22</th>\n",
              "      <td>2021-05-24</td>\n",
              "      <td>18.475995</td>\n",
              "      <td>1.0</td>\n",
              "    </tr>\n",
              "    <tr>\n",
              "      <th>2021-04-23</th>\n",
              "      <td>2021-05-25</td>\n",
              "      <td>22.292613</td>\n",
              "      <td>1.0</td>\n",
              "    </tr>\n",
              "    <tr>\n",
              "      <th>2021-04-26</th>\n",
              "      <td>2021-05-28</td>\n",
              "      <td>8.128763</td>\n",
              "      <td>1.0</td>\n",
              "    </tr>\n",
              "    <tr>\n",
              "      <th>2021-05-16</th>\n",
              "      <td>2021-06-17</td>\n",
              "      <td>-4.939134</td>\n",
              "      <td>-1.0</td>\n",
              "    </tr>\n",
              "    <tr>\n",
              "      <th>2021-05-26</th>\n",
              "      <td>2021-06-27</td>\n",
              "      <td>-10.883775</td>\n",
              "      <td>-1.0</td>\n",
              "    </tr>\n",
              "    <tr>\n",
              "      <th>2021-05-28</th>\n",
              "      <td>2021-06-29</td>\n",
              "      <td>-9.636321</td>\n",
              "      <td>-1.0</td>\n",
              "    </tr>\n",
              "    <tr>\n",
              "      <th>2021-06-01</th>\n",
              "      <td>2021-07-03</td>\n",
              "      <td>-9.451821</td>\n",
              "      <td>-1.0</td>\n",
              "    </tr>\n",
              "    <tr>\n",
              "      <th>2021-06-08</th>\n",
              "      <td>2021-07-10</td>\n",
              "      <td>-7.563467</td>\n",
              "      <td>-1.0</td>\n",
              "    </tr>\n",
              "    <tr>\n",
              "      <th>2021-06-15</th>\n",
              "      <td>2021-07-17</td>\n",
              "      <td>-1.828528</td>\n",
              "      <td>-1.0</td>\n",
              "    </tr>\n",
              "    <tr>\n",
              "      <th>2021-06-16</th>\n",
              "      <td>2021-07-18</td>\n",
              "      <td>-1.444007</td>\n",
              "      <td>-1.0</td>\n",
              "    </tr>\n",
              "    <tr>\n",
              "      <th>2021-06-17</th>\n",
              "      <td>2021-07-19</td>\n",
              "      <td>-1.216281</td>\n",
              "      <td>-1.0</td>\n",
              "    </tr>\n",
              "    <tr>\n",
              "      <th>2021-06-28</th>\n",
              "      <td>2021-07-30</td>\n",
              "      <td>-3.542861</td>\n",
              "      <td>-1.0</td>\n",
              "    </tr>\n",
              "    <tr>\n",
              "      <th>2021-07-09</th>\n",
              "      <td>2021-08-10</td>\n",
              "      <td>9.464852</td>\n",
              "      <td>1.0</td>\n",
              "    </tr>\n",
              "    <tr>\n",
              "      <th>2021-07-22</th>\n",
              "      <td>2021-08-23</td>\n",
              "      <td>22.449839</td>\n",
              "      <td>1.0</td>\n",
              "    </tr>\n",
              "    <tr>\n",
              "      <th>2021-08-18</th>\n",
              "      <td>2021-09-19</td>\n",
              "      <td>6.606052</td>\n",
              "      <td>1.0</td>\n",
              "    </tr>\n",
              "    <tr>\n",
              "      <th>2021-08-20</th>\n",
              "      <td>2021-09-21</td>\n",
              "      <td>4.775019</td>\n",
              "      <td>1.0</td>\n",
              "    </tr>\n",
              "    <tr>\n",
              "      <th>2021-08-25</th>\n",
              "      <td>2021-09-26</td>\n",
              "      <td>1.941763</td>\n",
              "      <td>1.0</td>\n",
              "    </tr>\n",
              "    <tr>\n",
              "      <th>2021-08-28</th>\n",
              "      <td>2021-09-29</td>\n",
              "      <td>-3.910932</td>\n",
              "      <td>-1.0</td>\n",
              "    </tr>\n",
              "    <tr>\n",
              "      <th>2021-08-29</th>\n",
              "      <td>2021-09-30</td>\n",
              "      <td>-4.904107</td>\n",
              "      <td>-1.0</td>\n",
              "    </tr>\n",
              "    <tr>\n",
              "      <th>2021-08-30</th>\n",
              "      <td>2021-10-01</td>\n",
              "      <td>-5.926294</td>\n",
              "      <td>-1.0</td>\n",
              "    </tr>\n",
              "    <tr>\n",
              "      <th>2021-09-08</th>\n",
              "      <td>2021-10-10</td>\n",
              "      <td>-6.171991</td>\n",
              "      <td>-1.0</td>\n",
              "    </tr>\n",
              "    <tr>\n",
              "      <th>2021-09-20</th>\n",
              "      <td>2021-10-22</td>\n",
              "      <td>15.500371</td>\n",
              "      <td>1.0</td>\n",
              "    </tr>\n",
              "    <tr>\n",
              "      <th>2021-09-28</th>\n",
              "      <td>2021-10-30</td>\n",
              "      <td>20.200668</td>\n",
              "      <td>1.0</td>\n",
              "    </tr>\n",
              "    <tr>\n",
              "      <th>2021-09-30</th>\n",
              "      <td>2021-11-01</td>\n",
              "      <td>19.62631</td>\n",
              "      <td>1.0</td>\n",
              "    </tr>\n",
              "    <tr>\n",
              "      <th>2021-10-01</th>\n",
              "      <td>2021-11-02</td>\n",
              "      <td>20.968441</td>\n",
              "      <td>1.0</td>\n",
              "    </tr>\n",
              "    <tr>\n",
              "      <th>2021-10-14</th>\n",
              "      <td>2021-11-15</td>\n",
              "      <td>19.327561</td>\n",
              "      <td>1.0</td>\n",
              "    </tr>\n",
              "    <tr>\n",
              "      <th>2021-10-29</th>\n",
              "      <td>2021-11-30</td>\n",
              "      <td>1.092214</td>\n",
              "      <td>1.0</td>\n",
              "    </tr>\n",
              "    <tr>\n",
              "      <th>2021-11-14</th>\n",
              "      <td>2021-12-16</td>\n",
              "      <td>-3.123421</td>\n",
              "      <td>-1.0</td>\n",
              "    </tr>\n",
              "    <tr>\n",
              "      <th>2021-11-15</th>\n",
              "      <td>2021-12-17</td>\n",
              "      <td>-3.197163</td>\n",
              "      <td>-1.0</td>\n",
              "    </tr>\n",
              "    <tr>\n",
              "      <th>2021-11-16</th>\n",
              "      <td>2021-12-18</td>\n",
              "      <td>-3.153417</td>\n",
              "      <td>-1.0</td>\n",
              "    </tr>\n",
              "    <tr>\n",
              "      <th>2021-11-22</th>\n",
              "      <td>2021-12-24</td>\n",
              "      <td>-5.910062</td>\n",
              "      <td>-1.0</td>\n",
              "    </tr>\n",
              "    <tr>\n",
              "      <th>2021-11-24</th>\n",
              "      <td>2021-12-26</td>\n",
              "      <td>-6.746107</td>\n",
              "      <td>-1.0</td>\n",
              "    </tr>\n",
              "    <tr>\n",
              "      <th>2021-11-27</th>\n",
              "      <td>2021-12-29</td>\n",
              "      <td>-7.388914</td>\n",
              "      <td>-1.0</td>\n",
              "    </tr>\n",
              "    <tr>\n",
              "      <th>2021-11-29</th>\n",
              "      <td>2021-12-31</td>\n",
              "      <td>-9.220269</td>\n",
              "      <td>-1.0</td>\n",
              "    </tr>\n",
              "    <tr>\n",
              "      <th>2021-12-04</th>\n",
              "      <td>2022-01-05</td>\n",
              "      <td>-8.741324</td>\n",
              "      <td>-1.0</td>\n",
              "    </tr>\n",
              "    <tr>\n",
              "      <th>2021-12-17</th>\n",
              "      <td>2022-01-18</td>\n",
              "      <td>-12.651395</td>\n",
              "      <td>-1.0</td>\n",
              "    </tr>\n",
              "    <tr>\n",
              "      <th>2021-12-20</th>\n",
              "      <td>2022-01-21</td>\n",
              "      <td>-14.489371</td>\n",
              "      <td>-1.0</td>\n",
              "    </tr>\n",
              "    <tr>\n",
              "      <th>2021-12-21</th>\n",
              "      <td>2022-01-22</td>\n",
              "      <td>-14.471317</td>\n",
              "      <td>-1.0</td>\n",
              "    </tr>\n",
              "    <tr>\n",
              "      <th>2021-12-24</th>\n",
              "      <td>2022-01-25</td>\n",
              "      <td>-14.823575</td>\n",
              "      <td>-1.0</td>\n",
              "    </tr>\n",
              "    <tr>\n",
              "      <th>2021-12-28</th>\n",
              "      <td>2022-01-29</td>\n",
              "      <td>-14.513419</td>\n",
              "      <td>-1.0</td>\n",
              "    </tr>\n",
              "    <tr>\n",
              "      <th>2022-01-06</th>\n",
              "      <td>2022-02-07</td>\n",
              "      <td>-7.104983</td>\n",
              "      <td>-1.0</td>\n",
              "    </tr>\n",
              "    <tr>\n",
              "      <th>2022-01-14</th>\n",
              "      <td>2022-02-15</td>\n",
              "      <td>-3.702562</td>\n",
              "      <td>-1.0</td>\n",
              "    </tr>\n",
              "    <tr>\n",
              "      <th>2022-01-18</th>\n",
              "      <td>2022-02-19</td>\n",
              "      <td>2.60701</td>\n",
              "      <td>1.0</td>\n",
              "    </tr>\n",
              "    <tr>\n",
              "      <th>2022-01-29</th>\n",
              "      <td>2022-03-02</td>\n",
              "      <td>2.749689</td>\n",
              "      <td>1.0</td>\n",
              "    </tr>\n",
              "    <tr>\n",
              "      <th>2022-02-12</th>\n",
              "      <td>2022-03-16</td>\n",
              "      <td>-4.029848</td>\n",
              "      <td>-1.0</td>\n",
              "    </tr>\n",
              "    <tr>\n",
              "      <th>2022-02-15</th>\n",
              "      <td>2022-03-19</td>\n",
              "      <td>-2.206056</td>\n",
              "      <td>-1.0</td>\n",
              "    </tr>\n",
              "    <tr>\n",
              "      <th>2022-02-17</th>\n",
              "      <td>2022-03-21</td>\n",
              "      <td>-0.962383</td>\n",
              "      <td>-1.0</td>\n",
              "    </tr>\n",
              "    <tr>\n",
              "      <th>2022-02-18</th>\n",
              "      <td>2022-03-22</td>\n",
              "      <td>1.677073</td>\n",
              "      <td>1.0</td>\n",
              "    </tr>\n",
              "  </tbody>\n",
              "</table>\n",
              "</div>\n",
              "      <button class=\"colab-df-convert\" onclick=\"convertToInteractive('df-62bced0d-c29f-4340-ad39-7a955aabf58c')\"\n",
              "              title=\"Convert this dataframe to an interactive table.\"\n",
              "              style=\"display:none;\">\n",
              "        \n",
              "  <svg xmlns=\"http://www.w3.org/2000/svg\" height=\"24px\"viewBox=\"0 0 24 24\"\n",
              "       width=\"24px\">\n",
              "    <path d=\"M0 0h24v24H0V0z\" fill=\"none\"/>\n",
              "    <path d=\"M18.56 5.44l.94 2.06.94-2.06 2.06-.94-2.06-.94-.94-2.06-.94 2.06-2.06.94zm-11 1L8.5 8.5l.94-2.06 2.06-.94-2.06-.94L8.5 2.5l-.94 2.06-2.06.94zm10 10l.94 2.06.94-2.06 2.06-.94-2.06-.94-.94-2.06-.94 2.06-2.06.94z\"/><path d=\"M17.41 7.96l-1.37-1.37c-.4-.4-.92-.59-1.43-.59-.52 0-1.04.2-1.43.59L10.3 9.45l-7.72 7.72c-.78.78-.78 2.05 0 2.83L4 21.41c.39.39.9.59 1.41.59.51 0 1.02-.2 1.41-.59l7.78-7.78 2.81-2.81c.8-.78.8-2.07 0-2.86zM5.41 20L4 18.59l7.72-7.72 1.47 1.35L5.41 20z\"/>\n",
              "  </svg>\n",
              "      </button>\n",
              "      \n",
              "  <style>\n",
              "    .colab-df-container {\n",
              "      display:flex;\n",
              "      flex-wrap:wrap;\n",
              "      gap: 12px;\n",
              "    }\n",
              "\n",
              "    .colab-df-convert {\n",
              "      background-color: #E8F0FE;\n",
              "      border: none;\n",
              "      border-radius: 50%;\n",
              "      cursor: pointer;\n",
              "      display: none;\n",
              "      fill: #1967D2;\n",
              "      height: 32px;\n",
              "      padding: 0 0 0 0;\n",
              "      width: 32px;\n",
              "    }\n",
              "\n",
              "    .colab-df-convert:hover {\n",
              "      background-color: #E2EBFA;\n",
              "      box-shadow: 0px 1px 2px rgba(60, 64, 67, 0.3), 0px 1px 3px 1px rgba(60, 64, 67, 0.15);\n",
              "      fill: #174EA6;\n",
              "    }\n",
              "\n",
              "    [theme=dark] .colab-df-convert {\n",
              "      background-color: #3B4455;\n",
              "      fill: #D2E3FC;\n",
              "    }\n",
              "\n",
              "    [theme=dark] .colab-df-convert:hover {\n",
              "      background-color: #434B5C;\n",
              "      box-shadow: 0px 1px 3px 1px rgba(0, 0, 0, 0.15);\n",
              "      filter: drop-shadow(0px 1px 2px rgba(0, 0, 0, 0.3));\n",
              "      fill: #FFFFFF;\n",
              "    }\n",
              "  </style>\n",
              "\n",
              "      <script>\n",
              "        const buttonEl =\n",
              "          document.querySelector('#df-62bced0d-c29f-4340-ad39-7a955aabf58c button.colab-df-convert');\n",
              "        buttonEl.style.display =\n",
              "          google.colab.kernel.accessAllowed ? 'block' : 'none';\n",
              "\n",
              "        async function convertToInteractive(key) {\n",
              "          const element = document.querySelector('#df-62bced0d-c29f-4340-ad39-7a955aabf58c');\n",
              "          const dataTable =\n",
              "            await google.colab.kernel.invokeFunction('convertToInteractive',\n",
              "                                                     [key], {});\n",
              "          if (!dataTable) return;\n",
              "\n",
              "          const docLinkHtml = 'Like what you see? Visit the ' +\n",
              "            '<a target=\"_blank\" href=https://colab.research.google.com/notebooks/data_table.ipynb>data table notebook</a>'\n",
              "            + ' to learn more about interactive tables.';\n",
              "          element.innerHTML = '';\n",
              "          dataTable['output_type'] = 'display_data';\n",
              "          await google.colab.output.renderOutput(dataTable, element);\n",
              "          const docLink = document.createElement('div');\n",
              "          docLink.innerHTML = docLinkHtml;\n",
              "          element.appendChild(docLink);\n",
              "        }\n",
              "      </script>\n",
              "    </div>\n",
              "  </div>\n",
              "  "
            ]
          },
          "metadata": {},
          "execution_count": 25
        }
      ]
    },
    {
      "cell_type": "code",
      "source": [
        "# add trend to the frame and ffill\n",
        "data2[\"trend\"] = trend.bin\n",
        "end = trend.t1\n",
        "data2.loc[end, \"trend\"] = 0\n",
        "data2.trend.fillna(method=\"ffill\", inplace=True)\n",
        "data2.trend.fillna(0, inplace=True)\n",
        "\n",
        "# get the unfiltered trends\n",
        "data2[\"trendstart\"] = data2[(data2.trend != 0) & (data2.trend.shift(1) == 0)].close\n",
        "data2[\"trendend\"] = data2[(data2.trend == 0) & (data2.trend.shift(1) != 0)].close"
      ],
      "metadata": {
        "colab": {
          "base_uri": "https://localhost:8080/"
        },
        "id": "FoV0hSdx46tm",
        "outputId": "4737611d-c3ed-4250-8697-db8ff3fb3fc3"
      },
      "execution_count": null,
      "outputs": [
        {
          "output_type": "stream",
          "name": "stderr",
          "text": [
            "/usr/local/lib/python3.7/dist-packages/ipykernel_launcher.py:2: SettingWithCopyWarning: \n",
            "A value is trying to be set on a copy of a slice from a DataFrame.\n",
            "Try using .loc[row_indexer,col_indexer] = value instead\n",
            "\n",
            "See the caveats in the documentation: https://pandas.pydata.org/pandas-docs/stable/user_guide/indexing.html#returning-a-view-versus-a-copy\n",
            "  \n",
            "/usr/local/lib/python3.7/dist-packages/pandas/core/indexing.py:1817: SettingWithCopyWarning: \n",
            "A value is trying to be set on a copy of a slice from a DataFrame.\n",
            "Try using .loc[row_indexer,col_indexer] = value instead\n",
            "\n",
            "See the caveats in the documentation: https://pandas.pydata.org/pandas-docs/stable/user_guide/indexing.html#returning-a-view-versus-a-copy\n",
            "  self._setitem_single_column(loc, value, pi)\n",
            "/usr/local/lib/python3.7/dist-packages/pandas/core/generic.py:6392: SettingWithCopyWarning: \n",
            "A value is trying to be set on a copy of a slice from a DataFrame\n",
            "\n",
            "See the caveats in the documentation: https://pandas.pydata.org/pandas-docs/stable/user_guide/indexing.html#returning-a-view-versus-a-copy\n",
            "  return self._update_inplace(result)\n",
            "/usr/local/lib/python3.7/dist-packages/ipykernel_launcher.py:9: SettingWithCopyWarning: \n",
            "A value is trying to be set on a copy of a slice from a DataFrame.\n",
            "Try using .loc[row_indexer,col_indexer] = value instead\n",
            "\n",
            "See the caveats in the documentation: https://pandas.pydata.org/pandas-docs/stable/user_guide/indexing.html#returning-a-view-versus-a-copy\n",
            "  if __name__ == '__main__':\n",
            "/usr/local/lib/python3.7/dist-packages/ipykernel_launcher.py:10: SettingWithCopyWarning: \n",
            "A value is trying to be set on a copy of a slice from a DataFrame.\n",
            "Try using .loc[row_indexer,col_indexer] = value instead\n",
            "\n",
            "See the caveats in the documentation: https://pandas.pydata.org/pandas-docs/stable/user_guide/indexing.html#returning-a-view-versus-a-copy\n",
            "  # Remove the CWD from sys.path while we load stuff.\n"
          ]
        }
      ]
    },
    {
      "cell_type": "code",
      "source": [
        "# plots\n",
        "fig, axes = plt.subplots(nrows=2, ncols=1, \n",
        "                         figsize=(15,10), \n",
        "                         gridspec_kw={'height_ratios': [2,1]})\n",
        "\n",
        "data2.close.plot(ax=axes[0])\n",
        "data2.mavg.plot(ax=axes[0], color=\"gray\", linestyle=\"--\")\n",
        "data2.entry.plot(ax=axes[0], marker=\".\", color=\"gray\")\n",
        "data2.trendstart.plot(ax=axes[0], marker=\"o\", markersize=10, color=\"blue\")\n",
        "data2.trendend.plot(ax=axes[0], marker=\"o\", markersize=8, color=\"black\")\n",
        "\n",
        "data2.trend.plot(ax=axes[1])\n",
        "\n",
        "axes[0].title.set_text('Price and Entry')\n",
        "axes[1].title.set_text('Trend')"
      ],
      "metadata": {
        "colab": {
          "base_uri": "https://localhost:8080/",
          "height": 456
        },
        "id": "CLHlIR7k46ql",
        "outputId": "2ff4128b-6944-417b-800c-4b76627cb84a"
      },
      "execution_count": null,
      "outputs": [
        {
          "output_type": "display_data",
          "data": {
            "text/plain": [
              "<Figure size 1080x720 with 2 Axes>"
            ],
            "image/png": "[encoded data removed]"
          },
          "metadata": {
            "needs_background": "light"
          }
        }
      ]
    },
    {
      "cell_type": "code",
      "source": [
        ""
      ],
      "metadata": {
        "id": "atGJpyPq46nI"
      },
      "execution_count": null,
      "outputs": []
    },
    {
      "cell_type": "code",
      "source": [
        ""
      ],
      "metadata": {
        "id": "A_4k9Ib646jd"
      },
      "execution_count": null,
      "outputs": []
    },
    {
      "cell_type": "code",
      "source": [
        ""
      ],
      "metadata": {
        "id": "dCr3HaxO46gQ"
      },
      "execution_count": null,
      "outputs": []
    },
    {
      "cell_type": "code",
      "source": [
        ""
      ],
      "metadata": {
        "id": "OuZ93e5f46U5"
      },
      "execution_count": null,
      "outputs": []
    },
    {
      "cell_type": "code",
      "source": [
        ""
      ],
      "metadata": {
        "id": "ou5v14_x46Rj"
      },
      "execution_count": null,
      "outputs": []
    },
    {
      "cell_type": "code",
      "source": [
        ""
      ],
      "metadata": {
        "id": "MI2Black46OM"
      },
      "execution_count": null,
      "outputs": []
    },
    {
      "cell_type": "code",
      "source": [
        ""
      ],
      "metadata": {
        "id": "a8EQbKPL46LK"
      },
      "execution_count": null,
      "outputs": []
    }
  ]
}